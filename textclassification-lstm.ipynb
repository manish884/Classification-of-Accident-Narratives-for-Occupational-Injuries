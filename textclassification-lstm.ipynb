{
 "cells": [
  {
   "cell_type": "markdown",
   "id": "92728573",
   "metadata": {
    "_cell_guid": "79c7e3d0-c299-4dcb-8224-4455121ee9b0",
    "_uuid": "d629ff2d2480ee46fbb7e2d37f6b5fab8052498a",
    "papermill": {
     "duration": 0.00672,
     "end_time": "2023-07-26T20:11:42.224009",
     "exception": false,
     "start_time": "2023-07-26T20:11:42.217289",
     "status": "completed"
    },
    "tags": []
   },
   "source": [
    "# Import the necessary libraries"
   ]
  },
  {
   "cell_type": "code",
   "execution_count": 1,
   "id": "e748898f",
   "metadata": {
    "_uuid": "d6fb32fd69316596e236eab5fb8cf77c848508c3",
    "execution": {
     "iopub.execute_input": "2023-07-26T20:11:42.240169Z",
     "iopub.status.busy": "2023-07-26T20:11:42.238596Z",
     "iopub.status.idle": "2023-07-26T20:11:49.424282Z",
     "shell.execute_reply": "2023-07-26T20:11:49.423193Z"
    },
    "papermill": {
     "duration": 7.19566,
     "end_time": "2023-07-26T20:11:49.426550",
     "exception": false,
     "start_time": "2023-07-26T20:11:42.230890",
     "status": "completed"
    },
    "tags": []
   },
   "outputs": [],
   "source": [
    "import pandas as pd\n",
    "import numpy as np\n",
    "import matplotlib.pyplot as plt\n",
    "import seaborn as sns\n",
    "from sklearn.model_selection import train_test_split\n",
    "from sklearn.preprocessing import LabelEncoder\n",
    "from sklearn.metrics import confusion_matrix\n",
    "from sklearn.metrics import fbeta_score\n",
    "from sklearn.metrics import precision_score\n",
    "from sklearn.metrics import recall_score\n",
    "from keras.models import Model\n",
    "from keras.layers import LSTM, Activation, Dense, Dropout, Input, Embedding\n",
    "from tensorflow.keras.optimizers import RMSprop\n",
    "#from keras.optimizers import RMSprop\n",
    "from keras.preprocessing.text import Tokenizer\n",
    "from keras.preprocessing import sequence\n",
    "from tensorflow.keras.utils import to_categorical\n",
    "from keras.callbacks import EarlyStopping\n",
    "%matplotlib inline"
   ]
  },
  {
   "cell_type": "markdown",
   "id": "950beae6",
   "metadata": {
    "_uuid": "f674695f1742479cefdeec0e81ab469f7b6ec90f",
    "papermill": {
     "duration": 0.006042,
     "end_time": "2023-07-26T20:11:49.439227",
     "exception": false,
     "start_time": "2023-07-26T20:11:49.433185",
     "status": "completed"
    },
    "tags": []
   },
   "source": [
    "### Load the data into Pandas dataframe"
   ]
  },
  {
   "cell_type": "code",
   "execution_count": 2,
   "id": "55c100e2",
   "metadata": {
    "_uuid": "aca2f1d9da3f35d104763166fe4d25448410d8f2",
    "execution": {
     "iopub.execute_input": "2023-07-26T20:11:49.453837Z",
     "iopub.status.busy": "2023-07-26T20:11:49.452303Z",
     "iopub.status.idle": "2023-07-26T20:11:49.558240Z",
     "shell.execute_reply": "2023-07-26T20:11:49.557312Z"
    },
    "papermill": {
     "duration": 0.115411,
     "end_time": "2023-07-26T20:11:49.560394",
     "exception": false,
     "start_time": "2023-07-26T20:11:49.444983",
     "status": "completed"
    },
    "tags": []
   },
   "outputs": [
    {
     "data": {
      "text/html": [
       "<div>\n",
       "<style scoped>\n",
       "    .dataframe tbody tr th:only-of-type {\n",
       "        vertical-align: middle;\n",
       "    }\n",
       "\n",
       "    .dataframe tbody tr th {\n",
       "        vertical-align: top;\n",
       "    }\n",
       "\n",
       "    .dataframe thead th {\n",
       "        text-align: right;\n",
       "    }\n",
       "</style>\n",
       "<table border=\"1\" class=\"dataframe\">\n",
       "  <thead>\n",
       "    <tr style=\"text-align: right;\">\n",
       "      <th></th>\n",
       "      <th>Event Date</th>\n",
       "      <th>Abstract_Text</th>\n",
       "      <th>Event Description</th>\n",
       "      <th>Event Keywords</th>\n",
       "      <th>Construction End Use</th>\n",
       "      <th>Project Type</th>\n",
       "      <th>Degree_of_Injury</th>\n",
       "      <th>Nature_of_Injury</th>\n",
       "      <th>Part_of_Body</th>\n",
       "      <th>Event_Type</th>\n",
       "      <th>Environmental_Factor</th>\n",
       "      <th>Human_Factor</th>\n",
       "      <th>Task_Assigned</th>\n",
       "    </tr>\n",
       "  </thead>\n",
       "  <tbody>\n",
       "    <tr>\n",
       "      <th>0</th>\n",
       "      <td>08-10-2017</td>\n",
       "      <td>At 9:00 a.m. on August 10, 2017, an employee w...</td>\n",
       "      <td>EMPLOYEE'S FINGERS AMPUTATED WHILE OPERATING A...</td>\n",
       "      <td>FINGER,MECHANICAL POWER PRESS,AMPUTATION,GUARD</td>\n",
       "      <td></td>\n",
       "      <td></td>\n",
       "      <td>Nonfatal</td>\n",
       "      <td>Amputation, Crushing</td>\n",
       "      <td>Fingers</td>\n",
       "      <td>Caught in or between</td>\n",
       "      <td>Catch Point/Puncture Action</td>\n",
       "      <td>Other</td>\n",
       "      <td>Regularly Assigned</td>\n",
       "    </tr>\n",
       "    <tr>\n",
       "      <th>1</th>\n",
       "      <td>7/17/2017</td>\n",
       "      <td>At 9:45 a.m. on July 17, 2017, an employee was...</td>\n",
       "      <td>EMPLOYEE'S FINGER IS CAUGHT IN DRILL AND IS AM...</td>\n",
       "      <td>CAUGHT IN,DRIVE SHAFT,RESIDENTIAL CONSTRUCTION...</td>\n",
       "      <td>Other building</td>\n",
       "      <td>Alteration or rehabilitation</td>\n",
       "      <td>Nonfatal</td>\n",
       "      <td>Dislocation</td>\n",
       "      <td>Fingers</td>\n",
       "      <td>Caught in or between</td>\n",
       "      <td>Other</td>\n",
       "      <td>Position Inappropriate For Task</td>\n",
       "      <td>Regularly Assigned</td>\n",
       "    </tr>\n",
       "    <tr>\n",
       "      <th>2</th>\n",
       "      <td>6/30/2017</td>\n",
       "      <td>At 7:30 a.m. on June 30, 2017, an employee was...</td>\n",
       "      <td>EMPLOYEE IS HOSPITALIZED AFTER BEING INJURED I...</td>\n",
       "      <td>AMPUTATED,EXPLOSION,FIREWORKS</td>\n",
       "      <td></td>\n",
       "      <td></td>\n",
       "      <td>Nonfatal</td>\n",
       "      <td>Fire Burn</td>\n",
       "      <td>Hand</td>\n",
       "      <td>Other</td>\n",
       "      <td>Other</td>\n",
       "      <td>Malfunction In Securing/Warning Op</td>\n",
       "      <td>Not Regularly Assigned</td>\n",
       "    </tr>\n",
       "    <tr>\n",
       "      <th>3</th>\n",
       "      <td>6/30/2017</td>\n",
       "      <td>At 2:00 p.m. on June 30, 2017, an employee was...</td>\n",
       "      <td>EMPLOYEE FALLS FROM ROOF AND IS INJURED</td>\n",
       "      <td>RIB,ROOF,HEAD,FALL PROTECTION,FALL,COLLARBONE,...</td>\n",
       "      <td>Commercial building</td>\n",
       "      <td>Alteration or rehabilitation</td>\n",
       "      <td>Fatal</td>\n",
       "      <td>Serious Fall/Strike</td>\n",
       "      <td>Head</td>\n",
       "      <td>Fall (from elevation)</td>\n",
       "      <td>Work-Surface/Facility-Layout Condition</td>\n",
       "      <td>Other</td>\n",
       "      <td>Regularly Assigned</td>\n",
       "    </tr>\n",
       "    <tr>\n",
       "      <th>4</th>\n",
       "      <td>6/23/2017</td>\n",
       "      <td>At 12:20 p.m. on June 23, 2017, an employee wa...</td>\n",
       "      <td>EMPLOYEE IS STRUCK BY PLYWOOD WHILE UNLOADING ...</td>\n",
       "      <td>STRUCK BY,TRUCK,BRAIN,NECK,FRACTURE,UNSTABLE LOAD</td>\n",
       "      <td></td>\n",
       "      <td></td>\n",
       "      <td>Nonfatal</td>\n",
       "      <td>Bruising, Contusion</td>\n",
       "      <td>Neck</td>\n",
       "      <td>Struck-by</td>\n",
       "      <td>Overhead Moving/Falling Object Action</td>\n",
       "      <td>Insufficient/Lack/Housekeeping Program</td>\n",
       "      <td>Regularly Assigned</td>\n",
       "    </tr>\n",
       "  </tbody>\n",
       "</table>\n",
       "</div>"
      ],
      "text/plain": [
       "   Event Date                                      Abstract_Text  \\\n",
       "0  08-10-2017  At 9:00 a.m. on August 10, 2017, an employee w...   \n",
       "1   7/17/2017  At 9:45 a.m. on July 17, 2017, an employee was...   \n",
       "2   6/30/2017  At 7:30 a.m. on June 30, 2017, an employee was...   \n",
       "3   6/30/2017  At 2:00 p.m. on June 30, 2017, an employee was...   \n",
       "4   6/23/2017  At 12:20 p.m. on June 23, 2017, an employee wa...   \n",
       "\n",
       "                                   Event Description  \\\n",
       "0  EMPLOYEE'S FINGERS AMPUTATED WHILE OPERATING A...   \n",
       "1  EMPLOYEE'S FINGER IS CAUGHT IN DRILL AND IS AM...   \n",
       "2  EMPLOYEE IS HOSPITALIZED AFTER BEING INJURED I...   \n",
       "3            EMPLOYEE FALLS FROM ROOF AND IS INJURED   \n",
       "4  EMPLOYEE IS STRUCK BY PLYWOOD WHILE UNLOADING ...   \n",
       "\n",
       "                                      Event Keywords Construction End Use  \\\n",
       "0     FINGER,MECHANICAL POWER PRESS,AMPUTATION,GUARD                        \n",
       "1  CAUGHT IN,DRIVE SHAFT,RESIDENTIAL CONSTRUCTION...       Other building   \n",
       "2                      AMPUTATED,EXPLOSION,FIREWORKS                        \n",
       "3  RIB,ROOF,HEAD,FALL PROTECTION,FALL,COLLARBONE,...  Commercial building   \n",
       "4  STRUCK BY,TRUCK,BRAIN,NECK,FRACTURE,UNSTABLE LOAD                        \n",
       "\n",
       "                   Project Type Degree_of_Injury      Nature_of_Injury  \\\n",
       "0                                       Nonfatal  Amputation, Crushing   \n",
       "1  Alteration or rehabilitation         Nonfatal           Dislocation   \n",
       "2                                       Nonfatal             Fire Burn   \n",
       "3  Alteration or rehabilitation            Fatal   Serious Fall/Strike   \n",
       "4                                       Nonfatal   Bruising, Contusion   \n",
       "\n",
       "  Part_of_Body             Event_Type                    Environmental_Factor  \\\n",
       "0      Fingers   Caught in or between             Catch Point/Puncture Action   \n",
       "1      Fingers   Caught in or between                                   Other   \n",
       "2         Hand                  Other                                   Other   \n",
       "3         Head  Fall (from elevation)  Work-Surface/Facility-Layout Condition   \n",
       "4         Neck              Struck-by   Overhead Moving/Falling Object Action   \n",
       "\n",
       "                             Human_Factor           Task_Assigned  \n",
       "0                                   Other      Regularly Assigned  \n",
       "1         Position Inappropriate For Task      Regularly Assigned  \n",
       "2      Malfunction In Securing/Warning Op  Not Regularly Assigned  \n",
       "3                                   Other      Regularly Assigned  \n",
       "4  Insufficient/Lack/Housekeeping Program      Regularly Assigned  "
      ]
     },
     "execution_count": 2,
     "metadata": {},
     "output_type": "execute_result"
    }
   ],
   "source": [
    "df = pd.read_csv('../input/trainedosha-data/TrainedOSHAData.csv',delimiter=',',encoding='latin-1')\n",
    "df.head()"
   ]
  },
  {
   "cell_type": "markdown",
   "id": "d522d7b2",
   "metadata": {
    "papermill": {
     "duration": 0.005907,
     "end_time": "2023-07-26T20:11:49.572664",
     "exception": false,
     "start_time": "2023-07-26T20:11:49.566757",
     "status": "completed"
    },
    "tags": []
   },
   "source": []
  },
  {
   "cell_type": "markdown",
   "id": "987360a9",
   "metadata": {
    "_uuid": "53083ccecf39523cff290495a6cc768061ba9b46",
    "papermill": {
     "duration": 0.006308,
     "end_time": "2023-07-26T20:11:49.585564",
     "exception": false,
     "start_time": "2023-07-26T20:11:49.579256",
     "status": "completed"
    },
    "tags": []
   },
   "source": [
    "Drop the columns that are not required for the neural network."
   ]
  },
  {
   "cell_type": "code",
   "execution_count": 3,
   "id": "53c424a3",
   "metadata": {
    "_uuid": "95a8b5d6f19cf42d4f55c6d2842faf1d0d55c1d0",
    "execution": {
     "iopub.execute_input": "2023-07-26T20:11:49.600986Z",
     "iopub.status.busy": "2023-07-26T20:11:49.600416Z",
     "iopub.status.idle": "2023-07-26T20:11:49.629127Z",
     "shell.execute_reply": "2023-07-26T20:11:49.627861Z"
    },
    "papermill": {
     "duration": 0.039345,
     "end_time": "2023-07-26T20:11:49.631508",
     "exception": false,
     "start_time": "2023-07-26T20:11:49.592163",
     "status": "completed"
    },
    "scrolled": true,
    "tags": []
   },
   "outputs": [
    {
     "name": "stdout",
     "output_type": "stream",
     "text": [
      "<class 'pandas.core.frame.DataFrame'>\n",
      "RangeIndex: 4847 entries, 0 to 4846\n",
      "Data columns (total 12 columns):\n",
      " #   Column                Non-Null Count  Dtype \n",
      "---  ------                --------------  ----- \n",
      " 0   Abstract_Text         4847 non-null   object\n",
      " 1   Event Description     4847 non-null   object\n",
      " 2   Event Keywords        4847 non-null   object\n",
      " 3   Construction End Use  4847 non-null   object\n",
      " 4   Project Type          4847 non-null   object\n",
      " 5   Degree_of_Injury      4847 non-null   object\n",
      " 6   Nature_of_Injury      4845 non-null   object\n",
      " 7   Part_of_Body          4845 non-null   object\n",
      " 8   Event_Type            4845 non-null   object\n",
      " 9   Environmental_Factor  4840 non-null   object\n",
      " 10  Human_Factor          4840 non-null   object\n",
      " 11  Task_Assigned         4847 non-null   object\n",
      "dtypes: object(12)\n",
      "memory usage: 454.5+ KB\n"
     ]
    }
   ],
   "source": [
    "df.drop(['Event Date'],axis=1,inplace=True)\n",
    "df.info()"
   ]
  },
  {
   "cell_type": "markdown",
   "id": "c5fe719d",
   "metadata": {
    "papermill": {
     "duration": 0.005981,
     "end_time": "2023-07-26T20:11:49.644059",
     "exception": false,
     "start_time": "2023-07-26T20:11:49.638078",
     "status": "completed"
    },
    "tags": []
   },
   "source": [
    "## Degree of Injury"
   ]
  },
  {
   "cell_type": "code",
   "execution_count": 4,
   "id": "fca4c587",
   "metadata": {
    "_uuid": "a12002f521dd8eaeb0f69a932cbf23815ffd09d7",
    "execution": {
     "iopub.execute_input": "2023-07-26T20:11:49.659027Z",
     "iopub.status.busy": "2023-07-26T20:11:49.658633Z",
     "iopub.status.idle": "2023-07-26T20:11:49.807487Z",
     "shell.execute_reply": "2023-07-26T20:11:49.806376Z"
    },
    "papermill": {
     "duration": 0.159052,
     "end_time": "2023-07-26T20:11:49.810096",
     "exception": false,
     "start_time": "2023-07-26T20:11:49.651044",
     "status": "completed"
    },
    "tags": []
   },
   "outputs": [
    {
     "name": "stdout",
     "output_type": "stream",
     "text": [
      "Fatal       2964\n",
      "Nonfatal    1883\n",
      "Name: Degree_of_Injury, dtype: int64\n"
     ]
    },
    {
     "data": {
      "image/png": "[encoded data removed]",
      "text/plain": [
       "<Figure size 288x360 with 1 Axes>"
      ]
     },
     "metadata": {
      "needs_background": "light"
     },
     "output_type": "display_data"
    }
   ],
   "source": [
    "print(df['Degree_of_Injury'].value_counts())\n",
    "plt.figure(figsize=(4,5))\n",
    "sns.countplot(x=df.Degree_of_Injury, color='blue')\n",
    "#plt.title('Degree of Injury', fontsize=16)\n",
    "plt.ylabel('Count', fontsize=16)\n",
    "plt.xlabel('Degree of Injury', fontsize=16)\n",
    "plt.xticks();\n",
    "plt.show()"
   ]
  },
  {
   "cell_type": "markdown",
   "id": "664165a5",
   "metadata": {
    "_uuid": "353a8191f86c3a22843a729b5d4a5acefbf94be8",
    "papermill": {
     "duration": 0.007078,
     "end_time": "2023-07-26T20:11:49.825597",
     "exception": false,
     "start_time": "2023-07-26T20:11:49.818519",
     "status": "completed"
    },
    "tags": []
   },
   "source": [
    "* Create input and output vectors.\n",
    "* Process the labels."
   ]
  },
  {
   "cell_type": "code",
   "execution_count": 5,
   "id": "dc5ac401",
   "metadata": {
    "_uuid": "a1a345c1683e2fcc7173ecae867a5da87f2dde24",
    "execution": {
     "iopub.execute_input": "2023-07-26T20:11:49.840691Z",
     "iopub.status.busy": "2023-07-26T20:11:49.840297Z",
     "iopub.status.idle": "2023-07-26T20:11:49.847200Z",
     "shell.execute_reply": "2023-07-26T20:11:49.846276Z"
    },
    "papermill": {
     "duration": 0.016677,
     "end_time": "2023-07-26T20:11:49.849078",
     "exception": false,
     "start_time": "2023-07-26T20:11:49.832401",
     "status": "completed"
    },
    "tags": []
   },
   "outputs": [],
   "source": [
    "X = df.Abstract_Text\n",
    "Y = df.Degree_of_Injury\n",
    "le = LabelEncoder()\n",
    "Y = le.fit_transform(Y)\n",
    "Y = Y.reshape(-1,1)"
   ]
  },
  {
   "cell_type": "code",
   "execution_count": null,
   "id": "7211ef33",
   "metadata": {
    "execution": {
     "iopub.execute_input": "2023-07-26T19:43:01.058759Z",
     "iopub.status.busy": "2023-07-26T19:43:01.057304Z",
     "iopub.status.idle": "2023-07-26T19:43:01.066763Z",
     "shell.execute_reply": "2023-07-26T19:43:01.065368Z",
     "shell.execute_reply.started": "2023-07-26T19:43:01.058702Z"
    },
    "papermill": {
     "duration": 0.006882,
     "end_time": "2023-07-26T20:11:49.863133",
     "exception": false,
     "start_time": "2023-07-26T20:11:49.856251",
     "status": "completed"
    },
    "tags": []
   },
   "outputs": [],
   "source": []
  },
  {
   "cell_type": "markdown",
   "id": "eb166e81",
   "metadata": {
    "_uuid": "150e244a39b814d8a41bbe0e419bc5f28e457dd6",
    "papermill": {
     "duration": 0.006665,
     "end_time": "2023-07-26T20:11:49.876534",
     "exception": false,
     "start_time": "2023-07-26T20:11:49.869869",
     "status": "completed"
    },
    "tags": []
   },
   "source": [
    "Split into training and test data."
   ]
  },
  {
   "cell_type": "code",
   "execution_count": 6,
   "id": "7f557e0f",
   "metadata": {
    "_uuid": "aa3386af09469682c66cc53a1830a4e42f0e70b6",
    "execution": {
     "iopub.execute_input": "2023-07-26T20:11:49.892009Z",
     "iopub.status.busy": "2023-07-26T20:11:49.891408Z",
     "iopub.status.idle": "2023-07-26T20:11:49.897564Z",
     "shell.execute_reply": "2023-07-26T20:11:49.896805Z"
    },
    "papermill": {
     "duration": 0.01627,
     "end_time": "2023-07-26T20:11:49.899548",
     "exception": false,
     "start_time": "2023-07-26T20:11:49.883278",
     "status": "completed"
    },
    "scrolled": true,
    "tags": []
   },
   "outputs": [],
   "source": [
    "X_train,X_test,Y_train,Y_test = train_test_split(X,Y,test_size=0.3)"
   ]
  },
  {
   "cell_type": "markdown",
   "id": "4af58f8d",
   "metadata": {
    "_uuid": "c5378d55c271e01480c1ac07f94ff99a80f900d6",
    "papermill": {
     "duration": 0.006552,
     "end_time": "2023-07-26T20:11:49.912918",
     "exception": false,
     "start_time": "2023-07-26T20:11:49.906366",
     "status": "completed"
    },
    "tags": []
   },
   "source": [
    "##### Process the data\n",
    "* Tokenize the data and convert the text to sequences.\n",
    "* Add padding to ensure that all the sequences have the same shape.\n",
    "* There are many ways of taking the *max_len* and here an arbitrary length of 150 is chosen."
   ]
  },
  {
   "cell_type": "code",
   "execution_count": 7,
   "id": "e0316317",
   "metadata": {
    "_uuid": "bdca14f2b8cd7bd7cb5ee66fd40ea522217c03c6",
    "execution": {
     "iopub.execute_input": "2023-07-26T20:11:49.928308Z",
     "iopub.status.busy": "2023-07-26T20:11:49.927756Z",
     "iopub.status.idle": "2023-07-26T20:11:50.283407Z",
     "shell.execute_reply": "2023-07-26T20:11:50.282320Z"
    },
    "papermill": {
     "duration": 0.366483,
     "end_time": "2023-07-26T20:11:50.286079",
     "exception": false,
     "start_time": "2023-07-26T20:11:49.919596",
     "status": "completed"
    },
    "tags": []
   },
   "outputs": [],
   "source": [
    "max_words = 1000\n",
    "max_len = 150\n",
    "tok = Tokenizer(num_words=max_words)\n",
    "tok.fit_on_texts(X_train)\n",
    "sequences = tok.texts_to_sequences(X_train)\n",
    "sequences_matrix = sequence.pad_sequences(sequences,maxlen=max_len)"
   ]
  },
  {
   "cell_type": "markdown",
   "id": "edda8735",
   "metadata": {
    "_uuid": "ad8706caa7a447fb49b44919fd109129e4082a93",
    "papermill": {
     "duration": 0.006304,
     "end_time": "2023-07-26T20:11:50.299126",
     "exception": false,
     "start_time": "2023-07-26T20:11:50.292822",
     "status": "completed"
    },
    "tags": []
   },
   "source": [
    "### RNN\n",
    "Define the RNN structure."
   ]
  },
  {
   "cell_type": "code",
   "execution_count": 8,
   "id": "1e325b3e",
   "metadata": {
    "_uuid": "78fff25b8be1de575bff071a2027f3dd2b11b911",
    "execution": {
     "iopub.execute_input": "2023-07-26T20:11:50.314037Z",
     "iopub.status.busy": "2023-07-26T20:11:50.313657Z",
     "iopub.status.idle": "2023-07-26T20:11:50.322137Z",
     "shell.execute_reply": "2023-07-26T20:11:50.320940Z"
    },
    "papermill": {
     "duration": 0.01899,
     "end_time": "2023-07-26T20:11:50.324687",
     "exception": false,
     "start_time": "2023-07-26T20:11:50.305697",
     "status": "completed"
    },
    "tags": []
   },
   "outputs": [],
   "source": [
    "def RNN():\n",
    "    inputs = Input(name='inputs',shape=[max_len])\n",
    "    layer = Embedding(max_words,50,input_length=max_len)(inputs)\n",
    "    layer = LSTM(64)(layer)\n",
    "    layer = Dense(256,name='FC1')(layer)\n",
    "    layer = Activation('relu')(layer)\n",
    "    layer = Dropout(0.5)(layer)\n",
    "    layer = Dense(1,name='out_layer')(layer)\n",
    "    layer = Activation('sigmoid')(layer)\n",
    "    model = Model(inputs=inputs,outputs=layer)\n",
    "    return model"
   ]
  },
  {
   "cell_type": "markdown",
   "id": "47802f58",
   "metadata": {
    "_uuid": "9d7c489e32bff6d12b8c08c07a91e9ba5d302e0e",
    "papermill": {
     "duration": 0.00622,
     "end_time": "2023-07-26T20:11:50.337616",
     "exception": false,
     "start_time": "2023-07-26T20:11:50.331396",
     "status": "completed"
    },
    "tags": []
   },
   "source": [
    "Call the function and compile the model."
   ]
  },
  {
   "cell_type": "code",
   "execution_count": 9,
   "id": "9746d5c4",
   "metadata": {
    "execution": {
     "iopub.execute_input": "2023-07-26T20:11:50.352492Z",
     "iopub.status.busy": "2023-07-26T20:11:50.352127Z",
     "iopub.status.idle": "2023-07-26T20:11:50.360095Z",
     "shell.execute_reply": "2023-07-26T20:11:50.359017Z"
    },
    "papermill": {
     "duration": 0.017678,
     "end_time": "2023-07-26T20:11:50.361907",
     "exception": false,
     "start_time": "2023-07-26T20:11:50.344229",
     "status": "completed"
    },
    "tags": []
   },
   "outputs": [],
   "source": [
    "from keras import backend as K\n",
    "#k.epsilon() is used to prevent division by zero error\n",
    "def recall_m(y_true, y_pred):\n",
    "    true_positives = K.sum(K.round(K.clip(y_true * y_pred, 0, 1)))\n",
    "    possible_positives = K.sum(K.round(K.clip(y_true, 0, 1)))\n",
    "    recall = true_positives / (possible_positives + K.epsilon())\n",
    "    return recall\n",
    "\n",
    "def precision_m(y_true, y_pred):\n",
    "    true_positives = K.sum(K.round(K.clip(y_true * y_pred, 0, 1)))\n",
    "    predicted_positives = K.sum(K.round(K.clip(y_pred, 0, 1)))\n",
    "    precision = true_positives / (predicted_positives + K.epsilon())\n",
    "    return precision\n",
    "\n",
    "def f2_m(y_true, y_pred):\n",
    "    precision = precision_m(y_true, y_pred)\n",
    "    recall = recall_m(y_true, y_pred)\n",
    "    return 5*((precision*recall)/(4*precision+recall+K.epsilon()))"
   ]
  },
  {
   "cell_type": "code",
   "execution_count": 10,
   "id": "9756f732",
   "metadata": {
    "_uuid": "a0ede32d4127e8b4990fd74fe97fadef9e565d17",
    "execution": {
     "iopub.execute_input": "2023-07-26T20:11:50.376452Z",
     "iopub.status.busy": "2023-07-26T20:11:50.375953Z",
     "iopub.status.idle": "2023-07-26T20:11:50.745957Z",
     "shell.execute_reply": "2023-07-26T20:11:50.745003Z"
    },
    "papermill": {
     "duration": 0.379806,
     "end_time": "2023-07-26T20:11:50.748072",
     "exception": false,
     "start_time": "2023-07-26T20:11:50.368266",
     "status": "completed"
    },
    "tags": []
   },
   "outputs": [
    {
     "name": "stdout",
     "output_type": "stream",
     "text": [
      "Model: \"model\"\n",
      "_________________________________________________________________\n",
      "Layer (type)                 Output Shape              Param #   \n",
      "=================================================================\n",
      "inputs (InputLayer)          [(None, 150)]             0         \n",
      "_________________________________________________________________\n",
      "embedding (Embedding)        (None, 150, 50)           50000     \n",
      "_________________________________________________________________\n",
      "lstm (LSTM)                  (None, 64)                29440     \n",
      "_________________________________________________________________\n",
      "FC1 (Dense)                  (None, 256)               16640     \n",
      "_________________________________________________________________\n",
      "activation (Activation)      (None, 256)               0         \n",
      "_________________________________________________________________\n",
      "dropout (Dropout)            (None, 256)               0         \n",
      "_________________________________________________________________\n",
      "out_layer (Dense)            (None, 1)                 257       \n",
      "_________________________________________________________________\n",
      "activation_1 (Activation)    (None, 1)                 0         \n",
      "=================================================================\n",
      "Total params: 96,337\n",
      "Trainable params: 96,337\n",
      "Non-trainable params: 0\n",
      "_________________________________________________________________\n"
     ]
    }
   ],
   "source": [
    "model = RNN()\n",
    "model.summary()\n",
    "model.compile(loss='binary_crossentropy',optimizer=RMSprop(),metrics=['acc', f2_m, precision_m, recall_m])\n",
    "#model.compile(loss='binary_crossentropy',optimizer=RMSprop(),metrics=['acc'])"
   ]
  },
  {
   "cell_type": "markdown",
   "id": "2828bb40",
   "metadata": {
    "_uuid": "bc2e0a3ec50d14c790b82d66f9255456ec6a69da",
    "papermill": {
     "duration": 0.006418,
     "end_time": "2023-07-26T20:11:50.761197",
     "exception": false,
     "start_time": "2023-07-26T20:11:50.754779",
     "status": "completed"
    },
    "tags": []
   },
   "source": [
    "Fit on the training data."
   ]
  },
  {
   "cell_type": "code",
   "execution_count": 11,
   "id": "225e57ce",
   "metadata": {
    "_uuid": "98f6d6318352420ea49c532cda158f715f940f4b",
    "execution": {
     "iopub.execute_input": "2023-07-26T20:11:50.776725Z",
     "iopub.status.busy": "2023-07-26T20:11:50.776087Z",
     "iopub.status.idle": "2023-07-26T20:11:57.247390Z",
     "shell.execute_reply": "2023-07-26T20:11:57.246663Z"
    },
    "papermill": {
     "duration": 6.481116,
     "end_time": "2023-07-26T20:11:57.249010",
     "exception": false,
     "start_time": "2023-07-26T20:11:50.767894",
     "status": "completed"
    },
    "tags": []
   },
   "outputs": [
    {
     "name": "stdout",
     "output_type": "stream",
     "text": [
      "Epoch 1/10\n",
      "22/22 [==============================] - 6s 177ms/step - loss: 0.5991 - acc: 0.6605 - f2_m: 0.1801 - precision_m: 0.5126 - recall_m: 0.1617 - val_loss: 0.3913 - val_acc: 0.8881 - val_f2_m: 0.7398 - val_precision_m: 0.9728 - val_recall_m: 0.6988\n"
     ]
    },
    {
     "data": {
      "text/plain": [
       "<keras.callbacks.History at 0x7e3401d1e890>"
      ]
     },
     "execution_count": 11,
     "metadata": {},
     "output_type": "execute_result"
    }
   ],
   "source": [
    "model.fit(sequences_matrix,Y_train,batch_size=128,epochs=10,\n",
    "          validation_split=0.2,callbacks=[EarlyStopping(monitor='val_loss',min_delta=0.0001)])"
   ]
  },
  {
   "cell_type": "markdown",
   "id": "aaeed770",
   "metadata": {
    "_uuid": "ccca7839445a7d663ee7bc425a16e247df3e0e5b",
    "papermill": {
     "duration": 0.0075,
     "end_time": "2023-07-26T20:11:57.264591",
     "exception": false,
     "start_time": "2023-07-26T20:11:57.257091",
     "status": "completed"
    },
    "tags": []
   },
   "source": [
    "Process the test set data."
   ]
  },
  {
   "cell_type": "code",
   "execution_count": 12,
   "id": "bd2b0ef2",
   "metadata": {
    "_uuid": "80036135a11387d952becaf2fecf653a65c02328",
    "execution": {
     "iopub.execute_input": "2023-07-26T20:11:57.281901Z",
     "iopub.status.busy": "2023-07-26T20:11:57.281274Z",
     "iopub.status.idle": "2023-07-26T20:11:57.358713Z",
     "shell.execute_reply": "2023-07-26T20:11:57.357991Z"
    },
    "papermill": {
     "duration": 0.088665,
     "end_time": "2023-07-26T20:11:57.360890",
     "exception": false,
     "start_time": "2023-07-26T20:11:57.272225",
     "status": "completed"
    },
    "tags": []
   },
   "outputs": [],
   "source": [
    "test_sequences = tok.texts_to_sequences(X_test)\n",
    "test_sequences_matrix = sequence.pad_sequences(test_sequences,maxlen=max_len)"
   ]
  },
  {
   "cell_type": "markdown",
   "id": "c76d8e38",
   "metadata": {
    "_uuid": "0b60d7d2bcc0aabf77c8c8766c59f8d73cd34547",
    "papermill": {
     "duration": 0.00869,
     "end_time": "2023-07-26T20:11:57.377777",
     "exception": false,
     "start_time": "2023-07-26T20:11:57.369087",
     "status": "completed"
    },
    "tags": []
   },
   "source": [
    "Evaluate the model on the test set."
   ]
  },
  {
   "cell_type": "code",
   "execution_count": 13,
   "id": "99b60cfa",
   "metadata": {
    "_uuid": "0db183049b59d96388812a98efedfc865b7cc141",
    "execution": {
     "iopub.execute_input": "2023-07-26T20:11:57.396002Z",
     "iopub.status.busy": "2023-07-26T20:11:57.395358Z",
     "iopub.status.idle": "2023-07-26T20:11:58.870936Z",
     "shell.execute_reply": "2023-07-26T20:11:58.869721Z"
    },
    "papermill": {
     "duration": 1.486914,
     "end_time": "2023-07-26T20:11:58.872921",
     "exception": false,
     "start_time": "2023-07-26T20:11:57.386007",
     "status": "completed"
    },
    "tags": []
   },
   "outputs": [
    {
     "name": "stdout",
     "output_type": "stream",
     "text": [
      "46/46 [==============================] - 1s 31ms/step - loss: 0.4251 - acc: 0.8557 - f2_m: 0.7005 - precision_m: 0.9836 - recall_m: 0.6568\n"
     ]
    }
   ],
   "source": [
    "loss, accuracy, f2_score, precision, recall = model.evaluate(test_sequences_matrix,Y_test)\n",
    "#loss, accuracy = model.evaluate(test_sequences_matrix,Y_test)"
   ]
  },
  {
   "cell_type": "code",
   "execution_count": 14,
   "id": "83e1a9f0",
   "metadata": {
    "_uuid": "3e121ab83f4a0b9f7376ab24aa25d67051171f89",
    "execution": {
     "iopub.execute_input": "2023-07-26T20:11:58.893083Z",
     "iopub.status.busy": "2023-07-26T20:11:58.892730Z",
     "iopub.status.idle": "2023-07-26T20:11:58.898077Z",
     "shell.execute_reply": "2023-07-26T20:11:58.897213Z"
    },
    "papermill": {
     "duration": 0.017729,
     "end_time": "2023-07-26T20:11:58.900214",
     "exception": false,
     "start_time": "2023-07-26T20:11:58.882485",
     "status": "completed"
    },
    "scrolled": true,
    "tags": []
   },
   "outputs": [
    {
     "name": "stdout",
     "output_type": "stream",
     "text": [
      "Loss: 0.425\n",
      "Accuracy: 85.567\n",
      "F2 Score: 70.048\n",
      "Precision: 98.357\n",
      "Recall: 65.683\n"
     ]
    }
   ],
   "source": [
    "#print('Test set\\n  Loss: {:0.3f}\\n  Accuracy: {:0.3f}'.format(accr[0],accr[1]))\n",
    "print('Loss: %.3f' % loss) \n",
    "print('Accuracy: %.3f' % (accuracy*100))\n",
    "print('F2 Score: %.3f' % (f2_score*100))\n",
    "print('Precision: %.3f' % (precision*100))\n",
    "print('Recall: %.3f' % (recall*100))"
   ]
  },
  {
   "cell_type": "markdown",
   "id": "8b425d0e",
   "metadata": {
    "papermill": {
     "duration": 0.008957,
     "end_time": "2023-07-26T20:11:58.918378",
     "exception": false,
     "start_time": "2023-07-26T20:11:58.909421",
     "status": "completed"
    },
    "tags": []
   },
   "source": [
    "## Frequency of Task Assigned"
   ]
  },
  {
   "cell_type": "code",
   "execution_count": 15,
   "id": "048773ab",
   "metadata": {
    "execution": {
     "iopub.execute_input": "2023-07-26T20:11:58.939005Z",
     "iopub.status.busy": "2023-07-26T20:11:58.937778Z",
     "iopub.status.idle": "2023-07-26T20:11:58.945952Z",
     "shell.execute_reply": "2023-07-26T20:11:58.945308Z"
    },
    "papermill": {
     "duration": 0.02046,
     "end_time": "2023-07-26T20:11:58.948008",
     "exception": false,
     "start_time": "2023-07-26T20:11:58.927548",
     "status": "completed"
    },
    "tags": []
   },
   "outputs": [],
   "source": [
    "X = df.Abstract_Text\n",
    "Y = df.Task_Assigned\n",
    "le = LabelEncoder()\n",
    "Y = le.fit_transform(Y)\n",
    "Y = Y.reshape(-1,1)\n",
    "X_train,X_test,Y_train,Y_test = train_test_split(X,Y,test_size=0.3)"
   ]
  },
  {
   "cell_type": "code",
   "execution_count": null,
   "id": "93d4140c",
   "metadata": {
    "papermill": {
     "duration": 0.009342,
     "end_time": "2023-07-26T20:11:58.967283",
     "exception": false,
     "start_time": "2023-07-26T20:11:58.957941",
     "status": "completed"
    },
    "tags": []
   },
   "outputs": [],
   "source": []
  }
 ],
 "metadata": {
  "kernelspec": {
   "display_name": "Python 3",
   "language": "python",
   "name": "python3"
  },
  "language_info": {
   "codemirror_mode": {
    "name": "ipython",
    "version": 3
   },
   "file_extension": ".py",
   "mimetype": "text/x-python",
   "name": "python",
   "nbconvert_exporter": "python",
   "pygments_lexer": "ipython3",
   "version": "3.7.12"
  },
  "papermill": {
   "default_parameters": {},
   "duration": 28.459567,
   "end_time": "2023-07-26T20:12:02.438893",
   "environment_variables": {},
   "exception": null,
   "input_path": "__notebook__.ipynb",
   "output_path": "__notebook__.ipynb",
   "parameters": {},
   "start_time": "2023-07-26T20:11:33.979326",
   "version": "2.3.4"
  }
 },
 "nbformat": 4,
 "nbformat_minor": 5
}
